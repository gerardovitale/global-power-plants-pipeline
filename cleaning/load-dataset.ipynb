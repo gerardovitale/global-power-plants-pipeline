{
 "cells": [
  {
   "cell_type": "code",
   "execution_count": 1,
   "metadata": {},
   "outputs": [],
   "source": [
    "import chardet\n",
    "import pandas as pd\n",
    "import numpy as np"
   ]
  },
  {
   "cell_type": "markdown",
   "metadata": {},
   "source": [
    "## Loading data...\n",
    "* # **Global Power Plants** around the world"
   ]
  },
  {
   "cell_type": "code",
   "execution_count": 2,
   "metadata": {},
   "outputs": [
    {
     "data": {
      "text/plain": [
       "'utf-8'"
      ]
     },
     "execution_count": 2,
     "metadata": {},
     "output_type": "execute_result"
    }
   ],
   "source": [
    "path = '../globalpowerplantdatabasev120/global_power_plant_database.csv'\n",
    "\n",
    "raw_data = open(path, 'rb').read()\n",
    "result = chardet.detect(raw_data)\n",
    "encoding = result['encoding']\n",
    "encoding"
   ]
  },
  {
   "cell_type": "code",
   "execution_count": 3,
   "metadata": {},
   "outputs": [],
   "source": [
    "power_plants = pd.read_csv(path, encoding=encoding)"
   ]
  },
  {
   "cell_type": "markdown",
   "metadata": {},
   "source": [
    "## First look!"
   ]
  },
  {
   "cell_type": "code",
   "execution_count": 4,
   "metadata": {},
   "outputs": [
    {
     "name": "stdout",
     "output_type": "stream",
     "text": [
      "<class 'pandas.core.frame.DataFrame'>\n",
      "RangeIndex: 29910 entries, 0 to 29909\n",
      "Data columns (total 24 columns):\n",
      " #   Column                    Non-Null Count  Dtype  \n",
      "---  ------                    --------------  -----  \n",
      " 0   country                   29910 non-null  object \n",
      " 1   country_long              29910 non-null  object \n",
      " 2   name                      29910 non-null  object \n",
      " 3   gppd_idnr                 29910 non-null  object \n",
      " 4   capacity_mw               29910 non-null  float64\n",
      " 5   latitude                  29910 non-null  float64\n",
      " 6   longitude                 29910 non-null  float64\n",
      " 7   primary_fuel              29910 non-null  object \n",
      " 8   other_fuel1               1963 non-null   object \n",
      " 9   other_fuel2               303 non-null    object \n",
      " 10  other_fuel3               104 non-null    object \n",
      " 11  commissioning_year        16303 non-null  float64\n",
      " 12  owner                     19531 non-null  object \n",
      " 13  source                    29895 non-null  object \n",
      " 14  url                       29892 non-null  object \n",
      " 15  geolocation_source        29491 non-null  object \n",
      " 16  wepp_id                   16381 non-null  object \n",
      " 17  year_of_capacity_data     13743 non-null  float64\n",
      " 18  generation_gwh_2013       6996 non-null   float64\n",
      " 19  generation_gwh_2014       7440 non-null   float64\n",
      " 20  generation_gwh_2015       8144 non-null   float64\n",
      " 21  generation_gwh_2016       8971 non-null   float64\n",
      " 22  generation_gwh_2017       9213 non-null   float64\n",
      " 23  estimated_generation_gwh  21791 non-null  float64\n",
      "dtypes: float64(11), object(13)\n",
      "memory usage: 5.5+ MB\n"
     ]
    }
   ],
   "source": [
    "power_plants.info()"
   ]
  },
  {
   "cell_type": "code",
   "execution_count": 5,
   "metadata": {},
   "outputs": [
    {
     "data": {
      "text/plain": [
       "(29910, 24)"
      ]
     },
     "execution_count": 5,
     "metadata": {},
     "output_type": "execute_result"
    }
   ],
   "source": [
    "power_plants.shape"
   ]
  },
  {
   "cell_type": "code",
   "execution_count": 6,
   "metadata": {},
   "outputs": [
    {
     "data": {
      "text/html": [
       "<div>\n",
       "<style scoped>\n",
       "    .dataframe tbody tr th:only-of-type {\n",
       "        vertical-align: middle;\n",
       "    }\n",
       "\n",
       "    .dataframe tbody tr th {\n",
       "        vertical-align: top;\n",
       "    }\n",
       "\n",
       "    .dataframe thead th {\n",
       "        text-align: right;\n",
       "    }\n",
       "</style>\n",
       "<table border=\"1\" class=\"dataframe\">\n",
       "  <thead>\n",
       "    <tr style=\"text-align: right;\">\n",
       "      <th></th>\n",
       "      <th>capacity_mw</th>\n",
       "      <th>latitude</th>\n",
       "      <th>longitude</th>\n",
       "      <th>commissioning_year</th>\n",
       "      <th>year_of_capacity_data</th>\n",
       "      <th>generation_gwh_2013</th>\n",
       "      <th>generation_gwh_2014</th>\n",
       "      <th>generation_gwh_2015</th>\n",
       "      <th>generation_gwh_2016</th>\n",
       "      <th>generation_gwh_2017</th>\n",
       "      <th>estimated_generation_gwh</th>\n",
       "    </tr>\n",
       "  </thead>\n",
       "  <tbody>\n",
       "    <tr>\n",
       "      <th>count</th>\n",
       "      <td>29910.000000</td>\n",
       "      <td>29910.000000</td>\n",
       "      <td>29910.000000</td>\n",
       "      <td>16303.000000</td>\n",
       "      <td>13743.000000</td>\n",
       "      <td>6996.000000</td>\n",
       "      <td>7440.000000</td>\n",
       "      <td>8144.000000</td>\n",
       "      <td>8971.000000</td>\n",
       "      <td>9213.000000</td>\n",
       "      <td>21791.000000</td>\n",
       "    </tr>\n",
       "    <tr>\n",
       "      <th>mean</th>\n",
       "      <td>186.294810</td>\n",
       "      <td>32.497558</td>\n",
       "      <td>-12.458680</td>\n",
       "      <td>1995.486227</td>\n",
       "      <td>2016.860001</td>\n",
       "      <td>689.625437</td>\n",
       "      <td>664.840134</td>\n",
       "      <td>664.270784</td>\n",
       "      <td>583.622877</td>\n",
       "      <td>579.524723</td>\n",
       "      <td>847.036474</td>\n",
       "    </tr>\n",
       "    <tr>\n",
       "      <th>std</th>\n",
       "      <td>525.703572</td>\n",
       "      <td>23.654472</td>\n",
       "      <td>76.978265</td>\n",
       "      <td>23.525537</td>\n",
       "      <td>1.195205</td>\n",
       "      <td>2330.869715</td>\n",
       "      <td>2258.351290</td>\n",
       "      <td>2304.225386</td>\n",
       "      <td>2097.603620</td>\n",
       "      <td>2063.070235</td>\n",
       "      <td>4067.434967</td>\n",
       "    </tr>\n",
       "    <tr>\n",
       "      <th>min</th>\n",
       "      <td>1.000000</td>\n",
       "      <td>-77.847000</td>\n",
       "      <td>-179.977700</td>\n",
       "      <td>1896.000000</td>\n",
       "      <td>2000.000000</td>\n",
       "      <td>-947.600000</td>\n",
       "      <td>-989.619000</td>\n",
       "      <td>-864.428000</td>\n",
       "      <td>-768.620000</td>\n",
       "      <td>-934.944000</td>\n",
       "      <td>0.000000</td>\n",
       "    </tr>\n",
       "    <tr>\n",
       "      <th>25%</th>\n",
       "      <td>4.774430</td>\n",
       "      <td>28.863475</td>\n",
       "      <td>-79.211275</td>\n",
       "      <td>1986.000000</td>\n",
       "      <td>2017.000000</td>\n",
       "      <td>2.167000</td>\n",
       "      <td>2.157000</td>\n",
       "      <td>2.350250</td>\n",
       "      <td>2.380500</td>\n",
       "      <td>3.202000</td>\n",
       "      <td>10.082961</td>\n",
       "    </tr>\n",
       "    <tr>\n",
       "      <th>50%</th>\n",
       "      <td>18.900000</td>\n",
       "      <td>40.071250</td>\n",
       "      <td>-3.746700</td>\n",
       "      <td>2005.000000</td>\n",
       "      <td>2017.000000</td>\n",
       "      <td>27.033000</td>\n",
       "      <td>23.005000</td>\n",
       "      <td>22.094000</td>\n",
       "      <td>17.862000</td>\n",
       "      <td>20.462000</td>\n",
       "      <td>53.417041</td>\n",
       "    </tr>\n",
       "    <tr>\n",
       "      <th>75%</th>\n",
       "      <td>100.000000</td>\n",
       "      <td>47.134575</td>\n",
       "      <td>24.931050</td>\n",
       "      <td>2012.063866</td>\n",
       "      <td>2017.000000</td>\n",
       "      <td>250.600500</td>\n",
       "      <td>224.955250</td>\n",
       "      <td>238.437917</td>\n",
       "      <td>187.084835</td>\n",
       "      <td>192.567000</td>\n",
       "      <td>339.874490</td>\n",
       "    </tr>\n",
       "    <tr>\n",
       "      <th>max</th>\n",
       "      <td>22500.000000</td>\n",
       "      <td>71.292000</td>\n",
       "      <td>179.388700</td>\n",
       "      <td>2018.000000</td>\n",
       "      <td>2018.000000</td>\n",
       "      <td>50834.000000</td>\n",
       "      <td>32320.917000</td>\n",
       "      <td>59546.865000</td>\n",
       "      <td>32377.477000</td>\n",
       "      <td>35116.000000</td>\n",
       "      <td>450562.692350</td>\n",
       "    </tr>\n",
       "  </tbody>\n",
       "</table>\n",
       "</div>"
      ],
      "text/plain": [
       "        capacity_mw      latitude     longitude  commissioning_year  \\\n",
       "count  29910.000000  29910.000000  29910.000000        16303.000000   \n",
       "mean     186.294810     32.497558    -12.458680         1995.486227   \n",
       "std      525.703572     23.654472     76.978265           23.525537   \n",
       "min        1.000000    -77.847000   -179.977700         1896.000000   \n",
       "25%        4.774430     28.863475    -79.211275         1986.000000   \n",
       "50%       18.900000     40.071250     -3.746700         2005.000000   \n",
       "75%      100.000000     47.134575     24.931050         2012.063866   \n",
       "max    22500.000000     71.292000    179.388700         2018.000000   \n",
       "\n",
       "       year_of_capacity_data  generation_gwh_2013  generation_gwh_2014  \\\n",
       "count           13743.000000          6996.000000          7440.000000   \n",
       "mean             2016.860001           689.625437           664.840134   \n",
       "std                 1.195205          2330.869715          2258.351290   \n",
       "min              2000.000000          -947.600000          -989.619000   \n",
       "25%              2017.000000             2.167000             2.157000   \n",
       "50%              2017.000000            27.033000            23.005000   \n",
       "75%              2017.000000           250.600500           224.955250   \n",
       "max              2018.000000         50834.000000         32320.917000   \n",
       "\n",
       "       generation_gwh_2015  generation_gwh_2016  generation_gwh_2017  \\\n",
       "count          8144.000000          8971.000000          9213.000000   \n",
       "mean            664.270784           583.622877           579.524723   \n",
       "std            2304.225386          2097.603620          2063.070235   \n",
       "min            -864.428000          -768.620000          -934.944000   \n",
       "25%               2.350250             2.380500             3.202000   \n",
       "50%              22.094000            17.862000            20.462000   \n",
       "75%             238.437917           187.084835           192.567000   \n",
       "max           59546.865000         32377.477000         35116.000000   \n",
       "\n",
       "       estimated_generation_gwh  \n",
       "count              21791.000000  \n",
       "mean                 847.036474  \n",
       "std                 4067.434967  \n",
       "min                    0.000000  \n",
       "25%                   10.082961  \n",
       "50%                   53.417041  \n",
       "75%                  339.874490  \n",
       "max               450562.692350  "
      ]
     },
     "execution_count": 6,
     "metadata": {},
     "output_type": "execute_result"
    }
   ],
   "source": [
    "power_plants.describe()"
   ]
  },
  {
   "cell_type": "markdown",
   "metadata": {},
   "source": [
    "## Looking for nulls values..."
   ]
  },
  {
   "cell_type": "code",
   "execution_count": 7,
   "metadata": {},
   "outputs": [
    {
     "data": {
      "text/plain": [
       "country                         0\n",
       "country_long                    0\n",
       "name                            0\n",
       "gppd_idnr                       0\n",
       "capacity_mw                     0\n",
       "latitude                        0\n",
       "longitude                       0\n",
       "primary_fuel                    0\n",
       "other_fuel1                 27947\n",
       "other_fuel2                 29607\n",
       "other_fuel3                 29806\n",
       "commissioning_year          13607\n",
       "owner                       10379\n",
       "source                         15\n",
       "url                            18\n",
       "geolocation_source            419\n",
       "wepp_id                     13529\n",
       "year_of_capacity_data       16167\n",
       "generation_gwh_2013         22914\n",
       "generation_gwh_2014         22470\n",
       "generation_gwh_2015         21766\n",
       "generation_gwh_2016         20939\n",
       "generation_gwh_2017         20697\n",
       "estimated_generation_gwh     8119\n",
       "dtype: int64"
      ]
     },
     "execution_count": 7,
     "metadata": {},
     "output_type": "execute_result"
    }
   ],
   "source": [
    "nulls = power_plants.isnull().sum()\n",
    "nulls"
   ]
  },
  {
   "cell_type": "markdown",
   "metadata": {},
   "source": [
    "## Percentage of missing values:\n",
    "- ### Overall"
   ]
  },
  {
   "cell_type": "code",
   "execution_count": 8,
   "metadata": {},
   "outputs": [
    {
     "data": {
      "text/plain": [
       "35.99674022066199"
      ]
     },
     "execution_count": 8,
     "metadata": {},
     "output_type": "execute_result"
    }
   ],
   "source": [
    "total_cells = np.product(power_plants.shape)\n",
    "nulls_values = nulls.sum()\n",
    "percent_missing = (nulls_values / total_cells) * 100\n",
    "percent_missing"
   ]
  },
  {
   "cell_type": "markdown",
   "metadata": {},
   "source": [
    "- ### Per column"
   ]
  },
  {
   "cell_type": "code",
   "execution_count": 9,
   "metadata": {},
   "outputs": [
    {
     "data": {
      "text/plain": [
       "country                      0.000000\n",
       "country_long                 0.000000\n",
       "name                         0.000000\n",
       "gppd_idnr                    0.000000\n",
       "capacity_mw                  0.000000\n",
       "latitude                     0.000000\n",
       "longitude                    0.000000\n",
       "primary_fuel                 0.000000\n",
       "other_fuel1                 93.436978\n",
       "other_fuel2                 98.986961\n",
       "other_fuel3                 99.652290\n",
       "commissioning_year          45.493146\n",
       "owner                       34.700769\n",
       "source                       0.050150\n",
       "url                          0.060181\n",
       "geolocation_source           1.400869\n",
       "wepp_id                     45.232364\n",
       "year_of_capacity_data       54.052156\n",
       "generation_gwh_2013         76.609829\n",
       "generation_gwh_2014         75.125376\n",
       "generation_gwh_2015         72.771648\n",
       "generation_gwh_2016         70.006687\n",
       "generation_gwh_2017         69.197593\n",
       "estimated_generation_gwh    27.144768\n",
       "dtype: float64"
      ]
     },
     "execution_count": 9,
     "metadata": {},
     "output_type": "execute_result"
    }
   ],
   "source": [
    "column_missing = power_plants.isnull().sum() * 100 / power_plants.shape[0]\n",
    "column_missing"
   ]
  },
  {
   "cell_type": "code",
   "execution_count": 10,
   "metadata": {},
   "outputs": [
    {
     "data": {
      "text/plain": [
       "Index(['country', 'country_long', 'name', 'gppd_idnr', 'capacity_mw',\n",
       "       'latitude', 'longitude', 'primary_fuel', 'other_fuel1', 'other_fuel2',\n",
       "       'other_fuel3', 'commissioning_year', 'owner', 'source', 'url',\n",
       "       'geolocation_source', 'wepp_id', 'year_of_capacity_data',\n",
       "       'generation_gwh_2013', 'generation_gwh_2014', 'generation_gwh_2015',\n",
       "       'generation_gwh_2016', 'generation_gwh_2017',\n",
       "       'estimated_generation_gwh'],\n",
       "      dtype='object')"
      ]
     },
     "execution_count": 10,
     "metadata": {},
     "output_type": "execute_result"
    }
   ],
   "source": [
    "power_plants.columns"
   ]
  },
  {
   "cell_type": "markdown",
   "metadata": {},
   "source": [
    "## New datasets from the original one:\n",
    "1. #### Clean data set with the following columns: ['country', 'country_long', 'name', 'gppd_idnr', 'capacity_mw', 'latitude', 'longitude', 'primary_fuel', 'estimated_generation_gwh'] "
   ]
  },
  {
   "cell_type": "code",
   "execution_count": 11,
   "metadata": {},
   "outputs": [],
   "source": [
    "save_path_1 = '../globalpowerplantdatabasev120/global_power_plant.csv'"
   ]
  },
  {
   "cell_type": "code",
   "execution_count": 12,
   "metadata": {},
   "outputs": [],
   "source": [
    "power_plants[['country', 'country_long', 'name', 'gppd_idnr', \n",
    "              'capacity_mw', 'latitude', 'longitude', 'primary_fuel',\n",
    "              'estimated_generation_gwh']].to_csv(save_path_1)"
   ]
  }
 ],
 "metadata": {
  "kernelspec": {
   "display_name": "Python 3",
   "language": "python",
   "name": "python3"
  },
  "language_info": {
   "codemirror_mode": {
    "name": "ipython",
    "version": 3
   },
   "file_extension": ".py",
   "mimetype": "text/x-python",
   "name": "python",
   "nbconvert_exporter": "python",
   "pygments_lexer": "ipython3",
   "version": "3.8.3"
  }
 },
 "nbformat": 4,
 "nbformat_minor": 4
}
