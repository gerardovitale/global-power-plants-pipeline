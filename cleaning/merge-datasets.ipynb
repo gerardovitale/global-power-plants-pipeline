{
 "cells": [
  {
   "cell_type": "code",
   "execution_count": 1,
   "metadata": {},
   "outputs": [],
   "source": [
    "import pandas as pd\n",
    "from sources.decoding import decoding "
   ]
  },
  {
   "cell_type": "markdown",
   "metadata": {},
   "source": [
    "## Global Power Plants"
   ]
  },
  {
   "cell_type": "code",
   "execution_count": 2,
   "metadata": {},
   "outputs": [],
   "source": [
    "global_power_plants_path = '../globalpowerplantdatabasev120/global_power_plants_clean.csv'\n",
    "cols = list(pd.read_csv(global_power_plants_path, nrows=1))\n",
    "cols = [i for i in cols if 'Unnamed' not in i]\n",
    "power_plants = pd.read_csv(global_power_plants_path, usecols=cols) # , index_col=['country']"
   ]
  },
  {
   "cell_type": "code",
   "execution_count": 3,
   "metadata": {},
   "outputs": [
    {
     "data": {
      "text/plain": [
       "((29910, 10),\n",
       " Index(['country', 'country_long', 'name', 'gppd_idnr', 'capacity_mw',\n",
       "        'latitude', 'longitude', 'primary_fuel', 'estimated_generation_gwh',\n",
       "        'continent'],\n",
       "       dtype='object'))"
      ]
     },
     "execution_count": 3,
     "metadata": {},
     "output_type": "execute_result"
    }
   ],
   "source": [
    "power_plants.shape, power_plants.columns"
   ]
  },
  {
   "cell_type": "markdown",
   "metadata": {},
   "source": [
    "## Geodata collected using google geolocalization API"
   ]
  },
  {
   "cell_type": "code",
   "execution_count": 4,
   "metadata": {},
   "outputs": [],
   "source": [
    "geo_path = '../globalpowerplantdatabasev120/geo_df.csv'\n",
    "cols = list(pd.read_csv(geo_path, nrows=1))\n",
    "cols = [i for i in cols if 'Unnamed' not in i]\n",
    "geo_df = pd.read_csv(geo_path, usecols=cols, encoding='utf8')"
   ]
  },
  {
   "cell_type": "code",
   "execution_count": 5,
   "metadata": {},
   "outputs": [
    {
     "data": {
      "text/plain": [
       "((29910, 3), Index(['locality', 'city', 'state'], dtype='object'))"
      ]
     },
     "execution_count": 5,
     "metadata": {},
     "output_type": "execute_result"
    }
   ],
   "source": [
    "geo_df.shape, geo_df.columns"
   ]
  },
  {
   "cell_type": "markdown",
   "metadata": {},
   "source": [
    "## AirQuality data collected using weatherbit API"
   ]
  },
  {
   "cell_type": "code",
   "execution_count": 6,
   "metadata": {},
   "outputs": [],
   "source": [
    "air_path = '../globalpowerplantdatabasev120/air_df.csv'\n",
    "cols = list(pd.read_csv(air_path, nrows=1))\n",
    "cols = [i for i in cols if 'Unnamed' not in i]\n",
    "air_df = pd.read_csv(air_path, usecols=cols)"
   ]
  },
  {
   "cell_type": "code",
   "execution_count": 7,
   "metadata": {},
   "outputs": [
    {
     "data": {
      "text/plain": [
       "((29910, 6), Index(['aqi', 'pm10', 'co', 'o3', 'so2', 'no2'], dtype='object'))"
      ]
     },
     "execution_count": 7,
     "metadata": {},
     "output_type": "execute_result"
    }
   ],
   "source": [
    "air_df.shape, air_df.columns"
   ]
  },
  {
   "cell_type": "markdown",
   "metadata": {},
   "source": [
    "## Now let's merge the three previously datasets on one DataFrame\n",
    "### Note: the goal is to build a dataframe so it can be possible to analyze the air quality state per state in Spain, in relation to the quantity and the type of power plants around"
   ]
  },
  {
   "cell_type": "code",
   "execution_count": 8,
   "metadata": {},
   "outputs": [
    {
     "data": {
      "text/plain": [
       "((614, 13), (29910, 6))"
      ]
     },
     "execution_count": 8,
     "metadata": {},
     "output_type": "execute_result"
    }
   ],
   "source": [
    "spain_geo = power_plants.merge(geo_df, how='inner', left_on=power_plants.index, right_on=geo_df.index)\n",
    "spain_geo.set_index(['country'], inplace=True)\n",
    "spain_geo = spain_geo[spain_geo.index.isin(['ESP'])]\n",
    "spain_geo.shape, air_df.shape"
   ]
  },
  {
   "cell_type": "code",
   "execution_count": 9,
   "metadata": {},
   "outputs": [],
   "source": [
    "spain_geo.drop(columns=['key_0'], inplace=True)\n",
    "spain_geo.reset_index(level=0, inplace=True)"
   ]
  },
  {
   "cell_type": "code",
   "execution_count": 10,
   "metadata": {},
   "outputs": [],
   "source": [
    "spain_geo_air = spain_geo.merge(air_df, how='inner', left_on=spain_geo.index, right_on=air_df.index)\n",
    "# The weather API just allow to perform 500 requests, 20 were used for testing\n",
    "spain_geo_air = spain_geo_air.iloc[0:480]\n",
    "# drop some columns that won't be used\n",
    "spain_geo_air = spain_geo_air.drop(columns=['key_0', 'country', 'country_long', 'locality', 'continent'])\n",
    "# rename state column to autonomous_community"
   ]
  },
  {
   "cell_type": "code",
   "execution_count": 11,
   "metadata": {},
   "outputs": [],
   "source": [
    "spain_geo_air['city'] = spain_geo_air['city'].apply(decoding)\n",
    "spain_geo_air['state'] = spain_geo_air['state'].apply(decoding)"
   ]
  },
  {
   "cell_type": "code",
   "execution_count": 12,
   "metadata": {},
   "outputs": [],
   "source": [
    "spanish_state_standard = {\n",
    "    'Andalucía': ['Andalucía', 'Andalusia'],\n",
    "    'Canarias': ['Canarias', 'Canary Islands'],\n",
    "    'Cataluña': ['Catalunya', 'Cataluña'],\n",
    "    'Islas Baleares': ['Illes Balears', 'Islas Baleares']\n",
    "}\n",
    "\n",
    "def standardize_state(string,standard):\n",
    "    for key_state,state_list in standard.items():\n",
    "        if string in state_list:\n",
    "            return key_state\n",
    "        return string"
   ]
  },
  {
   "cell_type": "code",
   "execution_count": 13,
   "metadata": {},
   "outputs": [],
   "source": [
    "spain_geo_air.state = spain_geo_air.state.apply(standardize_state, standard=spanish_state_standard)"
   ]
  },
  {
   "cell_type": "code",
   "execution_count": 14,
   "metadata": {},
   "outputs": [
    {
     "data": {
      "text/plain": [
       "array(['Principado de Asturias', 'Castilla-La Mancha', 'Catalunya',\n",
       "       'Castilla y León', 'Andalucía', 'Cantabria', 'Galicia',\n",
       "       'Illes Balears', 'Aragón', 'País Vasco', 'Canarias', 'La Rioja',\n",
       "       'Extremadura', 'Comunidad Valenciana', 'Euskadi', 'Canary Islands',\n",
       "       'Región de Murcia', 'Navarra', 'Valencian Community', 'Ceuta',\n",
       "       'Cataluña', 'Brong Ahafo Region', 'Jubbada Dhexe',\n",
       "       'Islas Baleares', 'Comunidad de Madrid', 'Melilla',\n",
       "       'Kilimanjaro Region', 'Garissa County'], dtype=object)"
      ]
     },
     "execution_count": 14,
     "metadata": {},
     "output_type": "execute_result"
    }
   ],
   "source": [
    "spain_geo_air.state.unique()"
   ]
  },
  {
   "cell_type": "code",
   "execution_count": 15,
   "metadata": {},
   "outputs": [],
   "source": [
    "save_path = '../globalpowerplantdatabasev120/spain_geo_air.csv'\n",
    "\n",
    "spain_geo_air.to_csv(save_path)"
   ]
  }
 ],
 "metadata": {
  "kernelspec": {
   "display_name": "Python 3",
   "language": "python",
   "name": "python3"
  },
  "language_info": {
   "codemirror_mode": {
    "name": "ipython",
    "version": 3
   },
   "file_extension": ".py",
   "mimetype": "text/x-python",
   "name": "python",
   "nbconvert_exporter": "python",
   "pygments_lexer": "ipython3",
   "version": "3.8.3"
  }
 },
 "nbformat": 4,
 "nbformat_minor": 4
}
