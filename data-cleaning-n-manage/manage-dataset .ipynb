{
 "cells": [
  {
   "cell_type": "code",
   "execution_count": 9,
   "metadata": {},
   "outputs": [],
   "source": [
    "import pandas as pd\n",
    "import numpy as np\n",
    "import pycountry\n",
    "import pycountry_convert\n",
    "import json\n",
    "import time\n",
    "import urllib.error\n",
    "import urllib.parse\n",
    "import urllib.request\n",
    "import html\n",
    "import os\n",
    "from dotenv import load_dotenv"
   ]
  },
  {
   "cell_type": "markdown",
   "metadata": {},
   "source": [
    "# Load the new dataset:"
   ]
  },
  {
   "cell_type": "code",
   "execution_count": 10,
   "metadata": {},
   "outputs": [],
   "source": [
    "path = '/Users/gerardovitaleerrico/Documents/DataCamp/globalpowerplantdatabasev120/global_power_plant.csv'\n",
    "cols = list(pd.read_csv(path, nrows=1))\n",
    "cols = [i for i in cols if 'Unnamed' not in i]\n",
    "power_plants = pd.read_csv(path, usecols=cols) # index_col=['country']"
   ]
  },
  {
   "cell_type": "markdown",
   "metadata": {},
   "source": [
    "## Normalizing some variables"
   ]
  },
  {
   "cell_type": "code",
   "execution_count": 11,
   "metadata": {},
   "outputs": [],
   "source": [
    "power_plants[\n",
    "    ['country_long', 'name', 'primary_fuel']\n",
    "] = power_plants[['country_long', 'name', 'primary_fuel']].apply(lambda x: x.str.lower())"
   ]
  },
  {
   "cell_type": "code",
   "execution_count": 12,
   "metadata": {},
   "outputs": [
    {
     "data": {
      "text/html": [
       "<div>\n",
       "<style scoped>\n",
       "    .dataframe tbody tr th:only-of-type {\n",
       "        vertical-align: middle;\n",
       "    }\n",
       "\n",
       "    .dataframe tbody tr th {\n",
       "        vertical-align: top;\n",
       "    }\n",
       "\n",
       "    .dataframe thead th {\n",
       "        text-align: right;\n",
       "    }\n",
       "</style>\n",
       "<table border=\"1\" class=\"dataframe\">\n",
       "  <thead>\n",
       "    <tr style=\"text-align: right;\">\n",
       "      <th></th>\n",
       "      <th>country</th>\n",
       "      <th>country_long</th>\n",
       "      <th>name</th>\n",
       "      <th>gppd_idnr</th>\n",
       "      <th>capacity_mw</th>\n",
       "      <th>latitude</th>\n",
       "      <th>longitude</th>\n",
       "      <th>primary_fuel</th>\n",
       "      <th>estimated_generation_gwh</th>\n",
       "    </tr>\n",
       "  </thead>\n",
       "  <tbody>\n",
       "    <tr>\n",
       "      <th>0</th>\n",
       "      <td>AFG</td>\n",
       "      <td>afghanistan</td>\n",
       "      <td>kajaki hydroelectric power plant afghanistan</td>\n",
       "      <td>GEODB0040538</td>\n",
       "      <td>33.00</td>\n",
       "      <td>32.3220</td>\n",
       "      <td>65.1190</td>\n",
       "      <td>hydro</td>\n",
       "      <td>NaN</td>\n",
       "    </tr>\n",
       "    <tr>\n",
       "      <th>1</th>\n",
       "      <td>AFG</td>\n",
       "      <td>afghanistan</td>\n",
       "      <td>mahipar hydroelectric power plant afghanistan</td>\n",
       "      <td>GEODB0040541</td>\n",
       "      <td>66.00</td>\n",
       "      <td>34.5560</td>\n",
       "      <td>69.4787</td>\n",
       "      <td>hydro</td>\n",
       "      <td>NaN</td>\n",
       "    </tr>\n",
       "    <tr>\n",
       "      <th>2</th>\n",
       "      <td>AFG</td>\n",
       "      <td>afghanistan</td>\n",
       "      <td>naghlu dam hydroelectric power plant afghanistan</td>\n",
       "      <td>GEODB0040534</td>\n",
       "      <td>100.00</td>\n",
       "      <td>34.6410</td>\n",
       "      <td>69.7170</td>\n",
       "      <td>hydro</td>\n",
       "      <td>NaN</td>\n",
       "    </tr>\n",
       "    <tr>\n",
       "      <th>3</th>\n",
       "      <td>AFG</td>\n",
       "      <td>afghanistan</td>\n",
       "      <td>nangarhar (darunta) hydroelectric power plant ...</td>\n",
       "      <td>GEODB0040536</td>\n",
       "      <td>11.55</td>\n",
       "      <td>34.4847</td>\n",
       "      <td>70.3633</td>\n",
       "      <td>hydro</td>\n",
       "      <td>NaN</td>\n",
       "    </tr>\n",
       "    <tr>\n",
       "      <th>4</th>\n",
       "      <td>AFG</td>\n",
       "      <td>afghanistan</td>\n",
       "      <td>northwest kabul power plant afghanistan</td>\n",
       "      <td>GEODB0040540</td>\n",
       "      <td>42.00</td>\n",
       "      <td>34.5638</td>\n",
       "      <td>69.1134</td>\n",
       "      <td>gas</td>\n",
       "      <td>NaN</td>\n",
       "    </tr>\n",
       "  </tbody>\n",
       "</table>\n",
       "</div>"
      ],
      "text/plain": [
       "  country country_long                                               name  \\\n",
       "0     AFG  afghanistan       kajaki hydroelectric power plant afghanistan   \n",
       "1     AFG  afghanistan      mahipar hydroelectric power plant afghanistan   \n",
       "2     AFG  afghanistan   naghlu dam hydroelectric power plant afghanistan   \n",
       "3     AFG  afghanistan  nangarhar (darunta) hydroelectric power plant ...   \n",
       "4     AFG  afghanistan            northwest kabul power plant afghanistan   \n",
       "\n",
       "      gppd_idnr  capacity_mw  latitude  longitude primary_fuel  \\\n",
       "0  GEODB0040538        33.00   32.3220    65.1190        hydro   \n",
       "1  GEODB0040541        66.00   34.5560    69.4787        hydro   \n",
       "2  GEODB0040534       100.00   34.6410    69.7170        hydro   \n",
       "3  GEODB0040536        11.55   34.4847    70.3633        hydro   \n",
       "4  GEODB0040540        42.00   34.5638    69.1134          gas   \n",
       "\n",
       "   estimated_generation_gwh  \n",
       "0                       NaN  \n",
       "1                       NaN  \n",
       "2                       NaN  \n",
       "3                       NaN  \n",
       "4                       NaN  "
      ]
     },
     "execution_count": 12,
     "metadata": {},
     "output_type": "execute_result"
    }
   ],
   "source": [
    "power_plants.head()"
   ]
  },
  {
   "cell_type": "markdown",
   "metadata": {},
   "source": [
    "## Adding continent as a new column"
   ]
  },
  {
   "cell_type": "code",
   "execution_count": 20,
   "metadata": {},
   "outputs": [],
   "source": [
    "def get_continent(alpha_3):\n",
    "    try:\n",
    "        alpha_2 = pycountry_convert.country_alpha3_to_country_alpha2(alpha_3.upper())\n",
    "        continent = pycountry_convert.country_alpha2_to_continent_code(alpha_2)\n",
    "        if continent == 'NA':\n",
    "            return 'NA*'\n",
    "        else:\n",
    "            return continent\n",
    "    except:\n",
    "        return np.nan"
   ]
  },
  {
   "cell_type": "markdown",
   "metadata": {},
   "source": [
    "### Due to the pandas convention of interpreting 'NA' as NaN value, the North America code 'NA' has been change to 'NA*'"
   ]
  },
  {
   "cell_type": "code",
   "execution_count": 21,
   "metadata": {},
   "outputs": [
    {
     "data": {
      "text/plain": [
       "'NA*'"
      ]
     },
     "execution_count": 21,
     "metadata": {},
     "output_type": "execute_result"
    }
   ],
   "source": [
    "get_continent('usa')"
   ]
  },
  {
   "cell_type": "code",
   "execution_count": 22,
   "metadata": {},
   "outputs": [],
   "source": [
    "power_plants['continent'] = power_plants['country'].apply(get_continent)"
   ]
  },
  {
   "cell_type": "markdown",
   "metadata": {},
   "source": [
    "### There are 5 \"countries\" that don't have ISO 3166-1 code"
   ]
  },
  {
   "cell_type": "code",
   "execution_count": 23,
   "metadata": {},
   "outputs": [
    {
     "data": {
      "text/plain": [
       "array(['AS', 'EU', 'AF', nan, 'SA', 'OC', 'NA*'], dtype=object)"
      ]
     },
     "execution_count": 23,
     "metadata": {},
     "output_type": "execute_result"
    }
   ],
   "source": [
    "power_plants['continent'].unique()"
   ]
  },
  {
   "cell_type": "code",
   "execution_count": 24,
   "metadata": {},
   "outputs": [
    {
     "data": {
      "text/html": [
       "<div>\n",
       "<style scoped>\n",
       "    .dataframe tbody tr th:only-of-type {\n",
       "        vertical-align: middle;\n",
       "    }\n",
       "\n",
       "    .dataframe tbody tr th {\n",
       "        vertical-align: top;\n",
       "    }\n",
       "\n",
       "    .dataframe thead th {\n",
       "        text-align: right;\n",
       "    }\n",
       "</style>\n",
       "<table border=\"1\" class=\"dataframe\">\n",
       "  <thead>\n",
       "    <tr style=\"text-align: right;\">\n",
       "      <th></th>\n",
       "      <th>country</th>\n",
       "      <th>country_long</th>\n",
       "      <th>name</th>\n",
       "      <th>gppd_idnr</th>\n",
       "      <th>capacity_mw</th>\n",
       "      <th>latitude</th>\n",
       "      <th>longitude</th>\n",
       "      <th>primary_fuel</th>\n",
       "      <th>estimated_generation_gwh</th>\n",
       "      <th>continent</th>\n",
       "    </tr>\n",
       "  </thead>\n",
       "  <tbody>\n",
       "    <tr>\n",
       "      <th>61</th>\n",
       "      <td>ATA</td>\n",
       "      <td>antarctica</td>\n",
       "      <td>mcmurdo station generator</td>\n",
       "      <td>WRI1023843</td>\n",
       "      <td>6.6</td>\n",
       "      <td>-77.8470</td>\n",
       "      <td>166.6605</td>\n",
       "      <td>oil</td>\n",
       "      <td>NaN</td>\n",
       "      <td>NaN</td>\n",
       "    </tr>\n",
       "    <tr>\n",
       "      <th>62</th>\n",
       "      <td>ATA</td>\n",
       "      <td>antarctica</td>\n",
       "      <td>ross island</td>\n",
       "      <td>WRI1022458</td>\n",
       "      <td>1.0</td>\n",
       "      <td>-77.8428</td>\n",
       "      <td>166.7271</td>\n",
       "      <td>wind</td>\n",
       "      <td>NaN</td>\n",
       "      <td>NaN</td>\n",
       "    </tr>\n",
       "    <tr>\n",
       "      <th>13996</th>\n",
       "      <td>KOS</td>\n",
       "      <td>kosovo</td>\n",
       "      <td>kosovo a coal power plant kosovo</td>\n",
       "      <td>GEODB0042698</td>\n",
       "      <td>800.0</td>\n",
       "      <td>42.6767</td>\n",
       "      <td>21.0867</td>\n",
       "      <td>coal</td>\n",
       "      <td>2852.503383</td>\n",
       "      <td>NaN</td>\n",
       "    </tr>\n",
       "    <tr>\n",
       "      <th>13997</th>\n",
       "      <td>KOS</td>\n",
       "      <td>kosovo</td>\n",
       "      <td>kosovo b coal power plant kosovo</td>\n",
       "      <td>GEODB0042699</td>\n",
       "      <td>678.0</td>\n",
       "      <td>42.6937</td>\n",
       "      <td>21.0570</td>\n",
       "      <td>coal</td>\n",
       "      <td>2417.496617</td>\n",
       "      <td>NaN</td>\n",
       "    </tr>\n",
       "    <tr>\n",
       "      <th>29886</th>\n",
       "      <td>ESH</td>\n",
       "      <td>western sahara</td>\n",
       "      <td>dakhla ic power plant western sahara</td>\n",
       "      <td>GEODB0042583</td>\n",
       "      <td>23.4</td>\n",
       "      <td>23.6816</td>\n",
       "      <td>-15.9594</td>\n",
       "      <td>oil</td>\n",
       "      <td>NaN</td>\n",
       "      <td>NaN</td>\n",
       "    </tr>\n",
       "  </tbody>\n",
       "</table>\n",
       "</div>"
      ],
      "text/plain": [
       "      country    country_long                                  name  \\\n",
       "61        ATA      antarctica             mcmurdo station generator   \n",
       "62        ATA      antarctica                           ross island   \n",
       "13996     KOS          kosovo      kosovo a coal power plant kosovo   \n",
       "13997     KOS          kosovo      kosovo b coal power plant kosovo   \n",
       "29886     ESH  western sahara  dakhla ic power plant western sahara   \n",
       "\n",
       "          gppd_idnr  capacity_mw  latitude  longitude primary_fuel  \\\n",
       "61       WRI1023843          6.6  -77.8470   166.6605          oil   \n",
       "62       WRI1022458          1.0  -77.8428   166.7271         wind   \n",
       "13996  GEODB0042698        800.0   42.6767    21.0867         coal   \n",
       "13997  GEODB0042699        678.0   42.6937    21.0570         coal   \n",
       "29886  GEODB0042583         23.4   23.6816   -15.9594          oil   \n",
       "\n",
       "       estimated_generation_gwh continent  \n",
       "61                          NaN       NaN  \n",
       "62                          NaN       NaN  \n",
       "13996               2852.503383       NaN  \n",
       "13997               2417.496617       NaN  \n",
       "29886                       NaN       NaN  "
      ]
     },
     "execution_count": 24,
     "metadata": {},
     "output_type": "execute_result"
    }
   ],
   "source": [
    "power_plants[power_plants['continent'].isnull()]"
   ]
  },
  {
   "cell_type": "code",
   "execution_count": 25,
   "metadata": {},
   "outputs": [],
   "source": [
    "save_path_1 = '/Users/gerardovitaleerrico/Documents/DataCamp/globalpowerplantdatabasev120/global_power_plants_clean.csv'\n",
    "power_plants.to_csv(save_path_1)"
   ]
  },
  {
   "cell_type": "markdown",
   "metadata": {},
   "source": [
    "## Creating a numpy array [ lat, lng ] = [ latitude, longitude ]"
   ]
  },
  {
   "cell_type": "code",
   "execution_count": 11,
   "metadata": {},
   "outputs": [],
   "source": [
    "latlng_serie = power_plants[['latitude', 'longitude']]"
   ]
  },
  {
   "cell_type": "code",
   "execution_count": 12,
   "metadata": {},
   "outputs": [],
   "source": [
    "latlng_array = latlng_serie.to_numpy()"
   ]
  },
  {
   "cell_type": "code",
   "execution_count": 13,
   "metadata": {},
   "outputs": [
    {
     "data": {
      "text/plain": [
       "(array([[ 32.322 ,  65.119 ],\n",
       "        [ 34.556 ,  69.4787],\n",
       "        [ 34.641 ,  69.717 ],\n",
       "        ...,\n",
       "        [-17.9167,  25.85  ],\n",
       "        [-18.3835,  26.47  ],\n",
       "        [-16.5222,  28.7619]]),\n",
       " (29910, 2))"
      ]
     },
     "execution_count": 13,
     "metadata": {},
     "output_type": "execute_result"
    }
   ],
   "source": [
    "latlng_array, latlng_array.shape"
   ]
  },
  {
   "cell_type": "markdown",
   "metadata": {},
   "source": [
    "****\n",
    "# Geocode function =>\n",
    "## Creating a new DataFrame with the following columns, based on the geolocation:\n",
    "- Locality\n",
    "- City\n",
    "- Stade"
   ]
  },
  {
   "cell_type": "code",
   "execution_count": 14,
   "metadata": {},
   "outputs": [],
   "source": [
    "load_dotenv('../global-power-plants-pipeline/.env')\n",
    "GEO_KEY = os.getenv(\"GEO_KEY\")\n",
    "BASE_URL = \"https://maps.googleapis.com/maps/api/geocode/json\""
   ]
  },
  {
   "cell_type": "code",
   "execution_count": 15,
   "metadata": {},
   "outputs": [],
   "source": [
    "def geocode(lat, lng):\n",
    "    params = urllib.parse.urlencode({\"latlng\": f\"{lat},{lng}\", \"key\": API_KEY,})\n",
    "    url = f\"{BASE_URL}?{params}\"\n",
    "    current_delay = 0.1  # Set the initial retry delay to 100ms.\n",
    "    max_delay = 5  # Set the maximum retry delay to 5 seconds.\n",
    "    \n",
    "    while True:\n",
    "        try:\n",
    "            # Get the API response.\n",
    "            response = urllib.request.urlopen(url)\n",
    "        except urllib.error.URLError:\n",
    "            pass  # Fall through to the retry loop.\n",
    "        else:\n",
    "            # If we didn't get an IOError then parse the result.\n",
    "            result = json.load(response)\n",
    "\n",
    "            if result[\"status\"] == \"OK\":\n",
    "                return result['results'][0]['address_components']\n",
    "            elif result[\"status\"] != \"UNKNOWN_ERROR\":\n",
    "                # Many API errors cannot be fixed by a retry, e.g. INVALID_REQUEST or\n",
    "                # ZERO_RESULTS. There is no point retrying these requests.\n",
    "                raise Exception(result[\"error_message\"])\n",
    "\n",
    "        if current_delay > max_delay:\n",
    "            raise Exception(\"Too many retry attempts.\")\n",
    "        \n",
    "        print(\"Waiting\", current_delay, \"seconds before retrying.\")\n",
    "\n",
    "        time.sleep(current_delay)\n",
    "        current_delay *= 2  # Increase the delay each time we retry."
   ]
  },
  {
   "cell_type": "code",
   "execution_count": 16,
   "metadata": {
    "scrolled": true
   },
   "outputs": [],
   "source": [
    "def apply_geocode():    \n",
    "    geo_array = np.empty((29910, 3), dtype='S25')\n",
    "    type_1 = 'locality'\n",
    "    type_2 = 'administrative_area_level_2'\n",
    "    type_3 = 'administrative_area_level_1'\n",
    "\n",
    "    for index,lat_lng in enumerate(latlng_array):\n",
    "        geo_data = geocode(lat_lng[0], lat_lng[1])\n",
    "        for i in range(len(geo_data)):\n",
    "            if type_1 in geo_data[i]['types']:\n",
    "                geo_array[index][0] = geo_data[i]['long_name'].encode('utf8')\n",
    "            elif type_2 in geo_data[i]['types']:\n",
    "                geo_array[index][1] = geo_data[i]['long_name'].encode('utf8')\n",
    "            elif type_3 in geo_data[i]['types']:\n",
    "                geo_array[index][2] = geo_data[i]['long_name'].encode('utf8')\n",
    "    \n",
    "    return geo_array"
   ]
  },
  {
   "cell_type": "code",
   "execution_count": null,
   "metadata": {},
   "outputs": [],
   "source": [
    "geo_array = apply_geocode()\n",
    "geo_df = pd.DataFrame(geo_array, columns=['locality', 'city', 'state'])\n",
    "\n",
    "save_path = '/Users/gerardovitaleerrico/Documents/DataCamp/globalpowerplantdatabasev120/geo_df.csv'\n",
    "\n",
    "geo_df.to_csv(save_path)"
   ]
  },
  {
   "cell_type": "markdown",
   "metadata": {},
   "source": [
    "****\n",
    "# AirQuality function =>\n",
    "## Creating another DataFrame, the air quality df associate with the geolocation [ lat, lon ], just for Country == Sapin due to the API's request limitation\n",
    "### The data added by the AirQuality API describe the air quality in the area, when data is found; on the contrary, it would describe the closest area/locality/city.\n",
    "- \"aqi\":\n",
    "- \"pm10\":\n",
    "- \"co\":\n",
    "- \"o3\":\n",
    "- \"so2\":\n",
    "- \"no2\":"
   ]
  },
  {
   "cell_type": "code",
   "execution_count": 17,
   "metadata": {},
   "outputs": [],
   "source": [
    "load_dotenv('../global-power-plants-pipeline/.env')\n",
    "AIR_KEY = os.getenv(\"AIR_KEY\")\n",
    "BASE_URL = \"https://api.weatherbit.io/v2.0/current/airquality\""
   ]
  },
  {
   "cell_type": "code",
   "execution_count": 18,
   "metadata": {},
   "outputs": [],
   "source": [
    "def air_quality(lat, lng):\n",
    "    params = urllib.parse.urlencode({\"lat\":f\"{lat}\", \"lon\":f\"{lng}\", \"key\": API_KEY,})\n",
    "    url = f\"{BASE_URL}?{params}\"\n",
    "    current_delay = 0.1  # Set the initial retry delay to 100ms.\n",
    "    max_delay = 5  # Set the maximum retry delay to 5 seconds.\n",
    "    \n",
    "    while True:\n",
    "        try:\n",
    "            # Get the API response.\n",
    "            response = urllib.request.urlopen(url)\n",
    "        except urllib.error.URLError:\n",
    "            pass  # Fall through to the retry loop.\n",
    "        else:\n",
    "            # If we didn't get an IOError then parse the result.\n",
    "            result = json.load(response)\n",
    "            return result['data'][0]\n",
    "\n",
    "        if current_delay > max_delay:\n",
    "            raise Exception(\"Too many retry attempts.\")\n",
    "        \n",
    "        \n",
    "        print(\"Waiting\", current_delay, \"seconds before retrying.\")\n",
    "\n",
    "        time.sleep(current_delay)\n",
    "        current_delay *= 2  # Increase the delay each time we retry."
   ]
  },
  {
   "cell_type": "code",
   "execution_count": 19,
   "metadata": {},
   "outputs": [],
   "source": [
    "spain_df  = power_plants[power_plants.index.isin(['ESP'])]"
   ]
  },
  {
   "cell_type": "code",
   "execution_count": 20,
   "metadata": {},
   "outputs": [],
   "source": [
    "latlng_spain = spain_df[['latitude', 'longitude']]"
   ]
  },
  {
   "cell_type": "code",
   "execution_count": 21,
   "metadata": {},
   "outputs": [],
   "source": [
    "latlng_spain = latlng_spain.to_numpy()"
   ]
  },
  {
   "cell_type": "code",
   "execution_count": 22,
   "metadata": {},
   "outputs": [
    {
     "data": {
      "text/plain": [
       "(array([], shape=(0, 2), dtype=float64), (0, 2))"
      ]
     },
     "execution_count": 22,
     "metadata": {},
     "output_type": "execute_result"
    }
   ],
   "source": [
    "latlng_spain, latlng_spain.shape"
   ]
  },
  {
   "cell_type": "code",
   "execution_count": 23,
   "metadata": {},
   "outputs": [],
   "source": [
    "pollutants = [\"aqi\",\"pm10\",\"co\",\"o3\",\"so2\",\"no2\"]\n",
    "\n",
    "def apply_aq():\n",
    "    air_array = np.empty((29910, 6))\n",
    "\n",
    "    for index,lat_lng in enumerate(latlng_spain[:480]):\n",
    "        air_data = air_quality(lat_lng[0], lat_lng[1])\n",
    "        for i in range(len(air_data)):\n",
    "            for j,k in enumerate(pollutants):\n",
    "                if k in air_data.keys():\n",
    "                    air_array[index][j] = air_data[k]\n",
    "                else:\n",
    "                    air_array[index][j] = np.nan\n",
    "    \n",
    "    return air_array"
   ]
  },
  {
   "cell_type": "code",
   "execution_count": null,
   "metadata": {},
   "outputs": [],
   "source": [
    "air_array = apply_aq()\n",
    "air_df = pd.DataFrame(air_array, columns=pollutants)\n",
    "\n",
    "save_path = '/Users/gerardovitaleerrico/Documents/DataCamp/globalpowerplantdatabasev120/air_df.csv'\n",
    "\n",
    "air_df.to_csv(save_path)"
   ]
  }
 ],
 "metadata": {
  "kernelspec": {
   "display_name": "Python 3",
   "language": "python",
   "name": "python3"
  },
  "language_info": {
   "codemirror_mode": {
    "name": "ipython",
    "version": 3
   },
   "file_extension": ".py",
   "mimetype": "text/x-python",
   "name": "python",
   "nbconvert_exporter": "python",
   "pygments_lexer": "ipython3",
   "version": "3.8.3"
  }
 },
 "nbformat": 4,
 "nbformat_minor": 4
}