{
 "cells": [
  {
   "cell_type": "code",
   "execution_count": 2,
   "metadata": {},
   "outputs": [],
   "source": [
    "import pandas as pd\n",
    "import numpy as np\n",
    "import seaborn as sns\n",
    "import matplotlib.pyplot as plt\n",
    "from matplotlib.pyplot import show\n",
    "%matplotlib inline"
   ]
  },
  {
   "cell_type": "markdown",
   "metadata": {},
   "source": [
    "# Global Power Plants"
   ]
  },
  {
   "cell_type": "code",
   "execution_count": 3,
   "metadata": {},
   "outputs": [],
   "source": [
    "# global_power_plants_path = '/Users/gerardovitaleerrico/Documents/DataCamp/globalpowerplantdatabasev120/global_power_plants_clean.csv'\n",
    "# cols = list(pd.read_csv(global_power_plants_path, nrows=1))\n",
    "# cols = [i for i in cols if 'Unnamed' not in i]\n",
    "# power_plants = pd.read_csv(global_power_plants_path, usecols=cols, index_col=['country'])"
   ]
  },
  {
   "cell_type": "markdown",
   "metadata": {},
   "source": [
    "## Power plants in Spain"
   ]
  },
  {
   "cell_type": "code",
   "execution_count": 11,
   "metadata": {},
   "outputs": [],
   "source": [
    "spain_plants_path = '/Users/gerardovitaleerrico/Documents/DataCamp/globalpowerplantdatabasev120/spain_power_plants.csv'\n",
    "cols = list(pd.read_csv(spain_plants_path, nrows=1))\n",
    "cols = [i for i in cols if 'Unnamed' not in i]\n",
    "spain_pp = pd.read_csv(spain_plants_path, usecols=cols) # , index_col=['primary_fuel']"
   ]
  },
  {
   "cell_type": "code",
   "execution_count": 12,
   "metadata": {},
   "outputs": [
    {
     "data": {
      "text/html": [
       "<div>\n",
       "<style scoped>\n",
       "    .dataframe tbody tr th:only-of-type {\n",
       "        vertical-align: middle;\n",
       "    }\n",
       "\n",
       "    .dataframe tbody tr th {\n",
       "        vertical-align: top;\n",
       "    }\n",
       "\n",
       "    .dataframe thead th {\n",
       "        text-align: right;\n",
       "    }\n",
       "</style>\n",
       "<table border=\"1\" class=\"dataframe\">\n",
       "  <thead>\n",
       "    <tr style=\"text-align: right;\">\n",
       "      <th></th>\n",
       "      <th>country</th>\n",
       "      <th>country_long</th>\n",
       "      <th>name</th>\n",
       "      <th>gppd_idnr</th>\n",
       "      <th>capacity_mw</th>\n",
       "      <th>latitude</th>\n",
       "      <th>longitude</th>\n",
       "      <th>primary_fuel</th>\n",
       "      <th>estimated_generation_gwh</th>\n",
       "    </tr>\n",
       "  </thead>\n",
       "  <tbody>\n",
       "    <tr>\n",
       "      <th>0</th>\n",
       "      <td>ESP</td>\n",
       "      <td>Spain</td>\n",
       "      <td>ABONO 2</td>\n",
       "      <td>WRI1006157</td>\n",
       "      <td>877.660</td>\n",
       "      <td>43.5528</td>\n",
       "      <td>-5.7231</td>\n",
       "      <td>Coal</td>\n",
       "      <td>4526.039693</td>\n",
       "    </tr>\n",
       "    <tr>\n",
       "      <th>1</th>\n",
       "      <td>ESP</td>\n",
       "      <td>Spain</td>\n",
       "      <td>ACECA  GRUPO 4</td>\n",
       "      <td>WRI1006159</td>\n",
       "      <td>758.740</td>\n",
       "      <td>39.9427</td>\n",
       "      <td>-3.8548</td>\n",
       "      <td>Gas</td>\n",
       "      <td>1371.142573</td>\n",
       "    </tr>\n",
       "    <tr>\n",
       "      <th>2</th>\n",
       "      <td>ESP</td>\n",
       "      <td>Spain</td>\n",
       "      <td>ADS JUNEDA 2</td>\n",
       "      <td>WRI1006161</td>\n",
       "      <td>15.000</td>\n",
       "      <td>41.5485</td>\n",
       "      <td>0.8245</td>\n",
       "      <td>Waste</td>\n",
       "      <td>53.033856</td>\n",
       "    </tr>\n",
       "    <tr>\n",
       "      <th>3</th>\n",
       "      <td>ESP</td>\n",
       "      <td>Spain</td>\n",
       "      <td>AGREDA</td>\n",
       "      <td>WRI1006162</td>\n",
       "      <td>18.000</td>\n",
       "      <td>41.8559</td>\n",
       "      <td>-1.9224</td>\n",
       "      <td>Wind</td>\n",
       "      <td>82.579397</td>\n",
       "    </tr>\n",
       "    <tr>\n",
       "      <th>4</th>\n",
       "      <td>ESP</td>\n",
       "      <td>Spain</td>\n",
       "      <td>AGREDA</td>\n",
       "      <td>WRI1006163</td>\n",
       "      <td>16.334</td>\n",
       "      <td>41.8559</td>\n",
       "      <td>-1.9224</td>\n",
       "      <td>Waste</td>\n",
       "      <td>57.750334</td>\n",
       "    </tr>\n",
       "  </tbody>\n",
       "</table>\n",
       "</div>"
      ],
      "text/plain": [
       "  country country_long            name   gppd_idnr  capacity_mw  latitude  \\\n",
       "0     ESP        Spain         ABONO 2  WRI1006157      877.660   43.5528   \n",
       "1     ESP        Spain  ACECA  GRUPO 4  WRI1006159      758.740   39.9427   \n",
       "2     ESP        Spain    ADS JUNEDA 2  WRI1006161       15.000   41.5485   \n",
       "3     ESP        Spain          AGREDA  WRI1006162       18.000   41.8559   \n",
       "4     ESP        Spain          AGREDA  WRI1006163       16.334   41.8559   \n",
       "\n",
       "   longitude primary_fuel  estimated_generation_gwh  \n",
       "0    -5.7231         Coal               4526.039693  \n",
       "1    -3.8548          Gas               1371.142573  \n",
       "2     0.8245        Waste                 53.033856  \n",
       "3    -1.9224         Wind                 82.579397  \n",
       "4    -1.9224        Waste                 57.750334  "
      ]
     },
     "execution_count": 12,
     "metadata": {},
     "output_type": "execute_result"
    }
   ],
   "source": [
    "spain_pp.head()"
   ]
  },
  {
   "cell_type": "markdown",
   "metadata": {},
   "source": [
    "## Geodata collected using google geolocalization API"
   ]
  },
  {
   "cell_type": "code",
   "execution_count": 13,
   "metadata": {},
   "outputs": [],
   "source": [
    "geo_path = '/Users/gerardovitaleerrico/Documents/DataCamp/globalpowerplantdatabasev120/geo_df.csv'\n",
    "cols = list(pd.read_csv(geo_path, nrows=1))\n",
    "cols = [i for i in cols if 'Unnamed' not in i]\n",
    "geo_df = pd.read_csv(geo_path, usecols=cols)"
   ]
  },
  {
   "cell_type": "markdown",
   "metadata": {},
   "source": [
    "## AirQuality datacollected using weatherbit API"
   ]
  },
  {
   "cell_type": "code",
   "execution_count": 14,
   "metadata": {},
   "outputs": [],
   "source": [
    "air_path = '/Users/gerardovitaleerrico/Documents/DataCamp/globalpowerplantdatabasev120/air_df.csv'\n",
    "cols = list(pd.read_csv(air_path, nrows=1))\n",
    "cols = [i for i in cols if 'Unnamed' not in i]\n",
    "air_df = pd.read_csv(air_path, usecols=cols)"
   ]
  },
  {
   "cell_type": "code",
   "execution_count": 15,
   "metadata": {},
   "outputs": [
    {
     "data": {
      "text/html": [
       "<div>\n",
       "<style scoped>\n",
       "    .dataframe tbody tr th:only-of-type {\n",
       "        vertical-align: middle;\n",
       "    }\n",
       "\n",
       "    .dataframe tbody tr th {\n",
       "        vertical-align: top;\n",
       "    }\n",
       "\n",
       "    .dataframe thead th {\n",
       "        text-align: right;\n",
       "    }\n",
       "</style>\n",
       "<table border=\"1\" class=\"dataframe\">\n",
       "  <thead>\n",
       "    <tr style=\"text-align: right;\">\n",
       "      <th></th>\n",
       "      <th>aqi</th>\n",
       "      <th>pm10</th>\n",
       "      <th>co</th>\n",
       "      <th>o3</th>\n",
       "      <th>so2</th>\n",
       "      <th>no2</th>\n",
       "    </tr>\n",
       "  </thead>\n",
       "  <tbody>\n",
       "    <tr>\n",
       "      <th>0</th>\n",
       "      <td>56.0</td>\n",
       "      <td>27.00000</td>\n",
       "      <td>626.667</td>\n",
       "      <td>27.25000</td>\n",
       "      <td>7.00</td>\n",
       "      <td>24.0</td>\n",
       "    </tr>\n",
       "    <tr>\n",
       "      <th>1</th>\n",
       "      <td>76.0</td>\n",
       "      <td>39.00000</td>\n",
       "      <td>700.000</td>\n",
       "      <td>4.94333</td>\n",
       "      <td>1.00</td>\n",
       "      <td>52.0</td>\n",
       "    </tr>\n",
       "    <tr>\n",
       "      <th>2</th>\n",
       "      <td>23.0</td>\n",
       "      <td>25.00000</td>\n",
       "      <td>250.000</td>\n",
       "      <td>21.32360</td>\n",
       "      <td>1.00</td>\n",
       "      <td>1.0</td>\n",
       "    </tr>\n",
       "    <tr>\n",
       "      <th>3</th>\n",
       "      <td>23.0</td>\n",
       "      <td>3.11571</td>\n",
       "      <td>375.000</td>\n",
       "      <td>50.00000</td>\n",
       "      <td>2.05</td>\n",
       "      <td>6.8</td>\n",
       "    </tr>\n",
       "    <tr>\n",
       "      <th>4</th>\n",
       "      <td>23.0</td>\n",
       "      <td>3.11571</td>\n",
       "      <td>375.000</td>\n",
       "      <td>50.00000</td>\n",
       "      <td>2.05</td>\n",
       "      <td>6.8</td>\n",
       "    </tr>\n",
       "  </tbody>\n",
       "</table>\n",
       "</div>"
      ],
      "text/plain": [
       "    aqi      pm10       co        o3   so2   no2\n",
       "0  56.0  27.00000  626.667  27.25000  7.00  24.0\n",
       "1  76.0  39.00000  700.000   4.94333  1.00  52.0\n",
       "2  23.0  25.00000  250.000  21.32360  1.00   1.0\n",
       "3  23.0   3.11571  375.000  50.00000  2.05   6.8\n",
       "4  23.0   3.11571  375.000  50.00000  2.05   6.8"
      ]
     },
     "execution_count": 15,
     "metadata": {},
     "output_type": "execute_result"
    }
   ],
   "source": [
    "air_df.head()"
   ]
  },
  {
   "cell_type": "code",
   "execution_count": 51,
   "metadata": {},
   "outputs": [],
   "source": [
    "spain_geo = spain_pp.merge(geo_df, how='inner', left_on=spain_pp.index, right_on=geo_df.index)"
   ]
  },
  {
   "cell_type": "code",
   "execution_count": 52,
   "metadata": {},
   "outputs": [],
   "source": [
    "spain_geo.drop(columns=['key_0'], inplace=True)"
   ]
  },
  {
   "cell_type": "code",
   "execution_count": 53,
   "metadata": {},
   "outputs": [],
   "source": [
    "spain_geo_air = spain_geo.merge(air_df, how='inner', left_on=spain_pp.index, right_on=geo_df.index)"
   ]
  },
  {
   "cell_type": "code",
   "execution_count": 54,
   "metadata": {},
   "outputs": [],
   "source": [
    "spain_geo_air = spain_geo_air.iloc[0:480]"
   ]
  },
  {
   "cell_type": "code",
   "execution_count": 55,
   "metadata": {},
   "outputs": [
    {
     "data": {
      "text/plain": [
       "Index(['key_0', 'country', 'country_long', 'name', 'gppd_idnr', 'capacity_mw',\n",
       "       'latitude', 'longitude', 'primary_fuel', 'estimated_generation_gwh',\n",
       "       'locality', 'city', 'state', 'aqi', 'pm10', 'co', 'o3', 'so2', 'no2'],\n",
       "      dtype='object')"
      ]
     },
     "execution_count": 55,
     "metadata": {},
     "output_type": "execute_result"
    }
   ],
   "source": [
    "spain_geo_air.columns"
   ]
  },
  {
   "cell_type": "code",
   "execution_count": null,
   "metadata": {},
   "outputs": [],
   "source": []
  },
  {
   "cell_type": "code",
   "execution_count": null,
   "metadata": {},
   "outputs": [],
   "source": []
  }
 ],
 "metadata": {
  "kernelspec": {
   "display_name": "Python 3",
   "language": "python",
   "name": "python3"
  },
  "language_info": {
   "codemirror_mode": {
    "name": "ipython",
    "version": 3
   },
   "file_extension": ".py",
   "mimetype": "text/x-python",
   "name": "python",
   "nbconvert_exporter": "python",
   "pygments_lexer": "ipython3",
   "version": "3.8.3"
  }
 },
 "nbformat": 4,
 "nbformat_minor": 4
}
